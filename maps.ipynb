{
 "cells": [
  {
   "cell_type": "code",
   "execution_count": 6,
   "id": "e2de8be9-40ba-4f73-a685-1c910e45d713",
   "metadata": {},
   "outputs": [],
   "source": [
    "import folium\n",
    "\n",
    "m = folium.Map(tiles=\"cartodb positron\")\n",
    "m.save(\"footprint.html\")"
   ]
  },
  {
   "cell_type": "code",
   "execution_count": null,
   "id": "fc2ac76c-275a-4d0f-93b8-196c8ff4e4b5",
   "metadata": {},
   "outputs": [],
   "source": []
  }
 ],
 "metadata": {
  "kernelspec": {
   "display_name": "Python 3 (ipykernel)",
   "language": "python",
   "name": "python3"
  },
  "language_info": {
   "codemirror_mode": {
    "name": "ipython",
    "version": 3
   },
   "file_extension": ".py",
   "mimetype": "text/x-python",
   "name": "python",
   "nbconvert_exporter": "python",
   "pygments_lexer": "ipython3",
   "version": "3.11.4"
  }
 },
 "nbformat": 4,
 "nbformat_minor": 5
}
